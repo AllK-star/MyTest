{
 "cells": [
  {
   "cell_type": "code",
   "execution_count": null,
   "id": "16da8547",
   "metadata": {},
   "outputs": [],
   "source": [
    "#домашнее задание по работе с pandas. Найти русский датасет, вывести хед и тейл, сделать фильтрацию."
   ]
  },
  {
   "cell_type": "code",
   "execution_count": 1,
   "id": "85ce59a1",
   "metadata": {},
   "outputs": [],
   "source": [
    "import pandas as pd"
   ]
  },
  {
   "cell_type": "code",
   "execution_count": 4,
   "id": "d01ce06f",
   "metadata": {},
   "outputs": [
    {
     "name": "stdout",
     "output_type": "stream",
     "text": [
      "Downloading from https://www.kaggle.com/api/v1/datasets/download/rai220/russian-cyrillic-names-and-sex?dataset_version_number=1...\n"
     ]
    },
    {
     "name": "stderr",
     "output_type": "stream",
     "text": [
      "100%|██████████████████████████████████████████████████████████████████████████████| 55.1M/55.1M [01:57<00:00, 492kB/s]"
     ]
    },
    {
     "name": "stdout",
     "output_type": "stream",
     "text": [
      "Extracting files...\n"
     ]
    },
    {
     "name": "stderr",
     "output_type": "stream",
     "text": [
      "\n"
     ]
    },
    {
     "name": "stdout",
     "output_type": "stream",
     "text": [
      "Path to dataset files: C:\\Users\\akush\\.cache\\kagglehub\\datasets\\rai220\\russian-cyrillic-names-and-sex\\versions\\1\n"
     ]
    }
   ],
   "source": [
    "#!pip install kagglehub\n",
    "import kagglehub\n",
    "\n",
    "# сукачивание последней версии датасета\n",
    "path = kagglehub.dataset_download(\"rai220/russian-cyrillic-names-and-sex\")\n",
    "\n",
    "print(\"Path to dataset files:\", path)"
   ]
  },
  {
   "cell_type": "code",
   "execution_count": 3,
   "id": "6135034e",
   "metadata": {
    "scrolled": true
   },
   "outputs": [
    {
     "name": "stdout",
     "output_type": "stream",
     "text": [
      "Collecting kagglehub\n",
      "  Downloading kagglehub-0.3.10-py3-none-any.whl (63 kB)\n",
      "Requirement already satisfied: tqdm in d:\\anaconda\\lib\\site-packages (from kagglehub) (4.64.0)\n",
      "Requirement already satisfied: pyyaml in d:\\anaconda\\lib\\site-packages (from kagglehub) (6.0)\n",
      "Requirement already satisfied: packaging in d:\\anaconda\\lib\\site-packages (from kagglehub) (21.3)\n",
      "Requirement already satisfied: requests in d:\\anaconda\\lib\\site-packages (from kagglehub) (2.27.1)\n",
      "Requirement already satisfied: pyparsing!=3.0.5,>=2.0.2 in d:\\anaconda\\lib\\site-packages (from packaging->kagglehub) (3.0.4)\n",
      "Requirement already satisfied: charset-normalizer~=2.0.0 in d:\\anaconda\\lib\\site-packages (from requests->kagglehub) (2.0.4)\n",
      "Requirement already satisfied: idna<4,>=2.5 in d:\\anaconda\\lib\\site-packages (from requests->kagglehub) (3.3)\n",
      "Requirement already satisfied: urllib3<1.27,>=1.21.1 in d:\\anaconda\\lib\\site-packages (from requests->kagglehub) (1.26.9)\n",
      "Requirement already satisfied: certifi>=2017.4.17 in d:\\anaconda\\lib\\site-packages (from requests->kagglehub) (2021.10.8)\n",
      "Requirement already satisfied: colorama in d:\\anaconda\\lib\\site-packages (from tqdm->kagglehub) (0.4.4)\n",
      "Installing collected packages: kagglehub\n",
      "Successfully installed kagglehub-0.3.10\n"
     ]
    }
   ],
   "source": [
    "!pip install kagglehub"
   ]
  },
  {
   "cell_type": "code",
   "execution_count": 8,
   "id": "adf88417",
   "metadata": {},
   "outputs": [
    {
     "name": "stdout",
     "output_type": "stream",
     "text": [
      "<bound method NDFrame.head of             АБАБИЙ     АНДРЕЙ     ВАСИЛЬЕВИЧ  М\n",
      "0         АБАБИЛОВ    ДМИТРИЙ     НИКОЛАЕВИЧ  М\n",
      "1         АБАБИЛОВ   ВЛАДИМИР       ИВАНОВИЧ  М\n",
      "2         АБАБИЛОВ     СЕРГЕЙ       ИВАНОВИЧ  М\n",
      "3         АБАБИЛОВ       ЮРИЙ   ВЛАДИМИРОВИЧ  М\n",
      "4         АБАБИЛОВ    АЛЕКСЕЙ     НИКОЛАЕВИЧ  М\n",
      "...            ...        ...            ... ..\n",
      "6228602     ИЩЕНКО       МАЙЯ  АННАДУРДЫЕВНА  Ж\n",
      "6228603  КОСТЮШИНА    НАТАЛИЯ   ВЯЧЕСЛАВОВНА  Ж\n",
      "6228604  КАСАТКИНА    ТАТЬЯНА   ВЛАДИМИРОВНА  Ж\n",
      "6228605  МАКСАКОВА     ГАЛИНА     ГЕОРГИЕВНА  Ж\n",
      "6228606  БЫКОВСКАЯ  ЕКАТЕРИНА   ВЛАДИМИРОВНА  Ж\n",
      "\n",
      "[6228607 rows x 4 columns]>\n"
     ]
    }
   ],
   "source": [
    "#открыть датасет\n",
    "path = r\"C:\\Users\\akush\\.cache\\kagglehub\\datasets\\rai220\\russian-cyrillic-names-and-sex\\versions\\1\\data.csv\"\n",
    "df = pd.read_csv(path)\n",
    "print(df.head)"
   ]
  },
  {
   "cell_type": "code",
   "execution_count": 9,
   "id": "5fdc77d4",
   "metadata": {
    "scrolled": true
   },
   "outputs": [
    {
     "name": "stdout",
     "output_type": "stream",
     "text": [
      "<bound method NDFrame.tail of             АБАБИЙ     АНДРЕЙ     ВАСИЛЬЕВИЧ  М\n",
      "0         АБАБИЛОВ    ДМИТРИЙ     НИКОЛАЕВИЧ  М\n",
      "1         АБАБИЛОВ   ВЛАДИМИР       ИВАНОВИЧ  М\n",
      "2         АБАБИЛОВ     СЕРГЕЙ       ИВАНОВИЧ  М\n",
      "3         АБАБИЛОВ       ЮРИЙ   ВЛАДИМИРОВИЧ  М\n",
      "4         АБАБИЛОВ    АЛЕКСЕЙ     НИКОЛАЕВИЧ  М\n",
      "...            ...        ...            ... ..\n",
      "6228602     ИЩЕНКО       МАЙЯ  АННАДУРДЫЕВНА  Ж\n",
      "6228603  КОСТЮШИНА    НАТАЛИЯ   ВЯЧЕСЛАВОВНА  Ж\n",
      "6228604  КАСАТКИНА    ТАТЬЯНА   ВЛАДИМИРОВНА  Ж\n",
      "6228605  МАКСАКОВА     ГАЛИНА     ГЕОРГИЕВНА  Ж\n",
      "6228606  БЫКОВСКАЯ  ЕКАТЕРИНА   ВЛАДИМИРОВНА  Ж\n",
      "\n",
      "[6228607 rows x 4 columns]>\n"
     ]
    }
   ],
   "source": [
    "print(df.tail)"
   ]
  },
  {
   "cell_type": "code",
   "execution_count": 10,
   "id": "bb8d1431",
   "metadata": {},
   "outputs": [
    {
     "data": {
      "text/html": [
       "<div>\n",
       "<style scoped>\n",
       "    .dataframe tbody tr th:only-of-type {\n",
       "        vertical-align: middle;\n",
       "    }\n",
       "\n",
       "    .dataframe tbody tr th {\n",
       "        vertical-align: top;\n",
       "    }\n",
       "\n",
       "    .dataframe thead th {\n",
       "        text-align: right;\n",
       "    }\n",
       "</style>\n",
       "<table border=\"1\" class=\"dataframe\">\n",
       "  <thead>\n",
       "    <tr style=\"text-align: right;\">\n",
       "      <th></th>\n",
       "      <th>АБАБИЙ</th>\n",
       "    </tr>\n",
       "  </thead>\n",
       "  <tbody>\n",
       "    <tr>\n",
       "      <th>0</th>\n",
       "      <td>АБАБИЛОВ</td>\n",
       "    </tr>\n",
       "    <tr>\n",
       "      <th>1</th>\n",
       "      <td>АБАБИЛОВ</td>\n",
       "    </tr>\n",
       "    <tr>\n",
       "      <th>2</th>\n",
       "      <td>АБАБИЛОВ</td>\n",
       "    </tr>\n",
       "    <tr>\n",
       "      <th>3</th>\n",
       "      <td>АБАБИЛОВ</td>\n",
       "    </tr>\n",
       "    <tr>\n",
       "      <th>4</th>\n",
       "      <td>АБАБИЛОВ</td>\n",
       "    </tr>\n",
       "    <tr>\n",
       "      <th>...</th>\n",
       "      <td>...</td>\n",
       "    </tr>\n",
       "    <tr>\n",
       "      <th>6228602</th>\n",
       "      <td>ИЩЕНКО</td>\n",
       "    </tr>\n",
       "    <tr>\n",
       "      <th>6228603</th>\n",
       "      <td>КОСТЮШИНА</td>\n",
       "    </tr>\n",
       "    <tr>\n",
       "      <th>6228604</th>\n",
       "      <td>КАСАТКИНА</td>\n",
       "    </tr>\n",
       "    <tr>\n",
       "      <th>6228605</th>\n",
       "      <td>МАКСАКОВА</td>\n",
       "    </tr>\n",
       "    <tr>\n",
       "      <th>6228606</th>\n",
       "      <td>БЫКОВСКАЯ</td>\n",
       "    </tr>\n",
       "  </tbody>\n",
       "</table>\n",
       "<p>6228607 rows × 1 columns</p>\n",
       "</div>"
      ],
      "text/plain": [
       "            АБАБИЙ\n",
       "0         АБАБИЛОВ\n",
       "1         АБАБИЛОВ\n",
       "2         АБАБИЛОВ\n",
       "3         АБАБИЛОВ\n",
       "4         АБАБИЛОВ\n",
       "...            ...\n",
       "6228602     ИЩЕНКО\n",
       "6228603  КОСТЮШИНА\n",
       "6228604  КАСАТКИНА\n",
       "6228605  МАКСАКОВА\n",
       "6228606  БЫКОВСКАЯ\n",
       "\n",
       "[6228607 rows x 1 columns]"
      ]
     },
     "execution_count": 10,
     "metadata": {},
     "output_type": "execute_result"
    }
   ],
   "source": [
    "#фильтрация 1: выбор колонок\n",
    "df.filter(items=['АБАБИЙ'])"
   ]
  },
  {
   "cell_type": "code",
   "execution_count": 22,
   "id": "770f675f",
   "metadata": {
    "scrolled": true
   },
   "outputs": [
    {
     "data": {
      "text/html": [
       "<div>\n",
       "<style scoped>\n",
       "    .dataframe tbody tr th:only-of-type {\n",
       "        vertical-align: middle;\n",
       "    }\n",
       "\n",
       "    .dataframe tbody tr th {\n",
       "        vertical-align: top;\n",
       "    }\n",
       "\n",
       "    .dataframe thead th {\n",
       "        text-align: right;\n",
       "    }\n",
       "</style>\n",
       "<table border=\"1\" class=\"dataframe\">\n",
       "  <thead>\n",
       "    <tr style=\"text-align: right;\">\n",
       "      <th></th>\n",
       "      <th>АБАБИЙ</th>\n",
       "      <th>АНДРЕЙ</th>\n",
       "      <th>ВАСИЛЬЕВИЧ</th>\n",
       "      <th>М</th>\n",
       "    </tr>\n",
       "  </thead>\n",
       "  <tbody>\n",
       "    <tr>\n",
       "      <th>0</th>\n",
       "      <td>АБАБИЛОВ</td>\n",
       "      <td>ДМИТРИЙ</td>\n",
       "      <td>НИКОЛАЕВИЧ</td>\n",
       "      <td>М</td>\n",
       "    </tr>\n",
       "    <tr>\n",
       "      <th>1</th>\n",
       "      <td>АБАБИЛОВ</td>\n",
       "      <td>ВЛАДИМИР</td>\n",
       "      <td>ИВАНОВИЧ</td>\n",
       "      <td>М</td>\n",
       "    </tr>\n",
       "    <tr>\n",
       "      <th>2</th>\n",
       "      <td>АБАБИЛОВ</td>\n",
       "      <td>СЕРГЕЙ</td>\n",
       "      <td>ИВАНОВИЧ</td>\n",
       "      <td>М</td>\n",
       "    </tr>\n",
       "    <tr>\n",
       "      <th>3</th>\n",
       "      <td>АБАБИЛОВ</td>\n",
       "      <td>ЮРИЙ</td>\n",
       "      <td>ВЛАДИМИРОВИЧ</td>\n",
       "      <td>М</td>\n",
       "    </tr>\n",
       "    <tr>\n",
       "      <th>4</th>\n",
       "      <td>АБАБИЛОВ</td>\n",
       "      <td>АЛЕКСЕЙ</td>\n",
       "      <td>НИКОЛАЕВИЧ</td>\n",
       "      <td>М</td>\n",
       "    </tr>\n",
       "    <tr>\n",
       "      <th>...</th>\n",
       "      <td>...</td>\n",
       "      <td>...</td>\n",
       "      <td>...</td>\n",
       "      <td>...</td>\n",
       "    </tr>\n",
       "    <tr>\n",
       "      <th>6182668</th>\n",
       "      <td>ЗАБАБУРИНА</td>\n",
       "      <td>ОЛЬГА</td>\n",
       "      <td>АЛЕКСАНДРОВНА</td>\n",
       "      <td>Ж</td>\n",
       "    </tr>\n",
       "    <tr>\n",
       "      <th>6212080</th>\n",
       "      <td>ЗАБАБУРИН</td>\n",
       "      <td>АНДРЕЙ</td>\n",
       "      <td>ГЕННАДЬЕВИЧ</td>\n",
       "      <td>М</td>\n",
       "    </tr>\n",
       "    <tr>\n",
       "      <th>6213422</th>\n",
       "      <td>ЗАБАБУРИНА</td>\n",
       "      <td>СВЕТЛАНА</td>\n",
       "      <td>АЛЕКСАНДРОВНА</td>\n",
       "      <td>Ж</td>\n",
       "    </tr>\n",
       "    <tr>\n",
       "      <th>6214737</th>\n",
       "      <td>ЗАБАБУРИН</td>\n",
       "      <td>АЛЕКСЕЙ</td>\n",
       "      <td>АЛЕКСАНДРОВИЧ</td>\n",
       "      <td>М</td>\n",
       "    </tr>\n",
       "    <tr>\n",
       "      <th>6228309</th>\n",
       "      <td>АБАБИЛОВ</td>\n",
       "      <td>ВЛАДИМИР</td>\n",
       "      <td>ИВАНОВИЧ</td>\n",
       "      <td>М</td>\n",
       "    </tr>\n",
       "  </tbody>\n",
       "</table>\n",
       "<p>376 rows × 4 columns</p>\n",
       "</div>"
      ],
      "text/plain": [
       "             АБАБИЙ    АНДРЕЙ     ВАСИЛЬЕВИЧ  М\n",
       "0          АБАБИЛОВ   ДМИТРИЙ     НИКОЛАЕВИЧ  М\n",
       "1          АБАБИЛОВ  ВЛАДИМИР       ИВАНОВИЧ  М\n",
       "2          АБАБИЛОВ    СЕРГЕЙ       ИВАНОВИЧ  М\n",
       "3          АБАБИЛОВ      ЮРИЙ   ВЛАДИМИРОВИЧ  М\n",
       "4          АБАБИЛОВ   АЛЕКСЕЙ     НИКОЛАЕВИЧ  М\n",
       "...             ...       ...            ... ..\n",
       "6182668  ЗАБАБУРИНА     ОЛЬГА  АЛЕКСАНДРОВНА  Ж\n",
       "6212080   ЗАБАБУРИН    АНДРЕЙ    ГЕННАДЬЕВИЧ  М\n",
       "6213422  ЗАБАБУРИНА  СВЕТЛАНА  АЛЕКСАНДРОВНА  Ж\n",
       "6214737   ЗАБАБУРИН   АЛЕКСЕЙ  АЛЕКСАНДРОВИЧ  М\n",
       "6228309    АБАБИЛОВ  ВЛАДИМИР       ИВАНОВИЧ  М\n",
       "\n",
       "[376 rows x 4 columns]"
      ]
     },
     "execution_count": 22,
     "metadata": {},
     "output_type": "execute_result"
    }
   ],
   "source": [
    "#фильтрация 2: По содержанию столбцов\n",
    "df[df.АБАБИЙ.str.contains('АБАБ', na=False)]"
   ]
  },
  {
   "cell_type": "code",
   "execution_count": null,
   "id": "0234b8ea",
   "metadata": {},
   "outputs": [],
   "source": [
    "\n"
   ]
  }
 ],
 "metadata": {
  "kernelspec": {
   "display_name": "Python 3 (ipykernel)",
   "language": "python",
   "name": "python3"
  },
  "language_info": {
   "codemirror_mode": {
    "name": "ipython",
    "version": 3
   },
   "file_extension": ".py",
   "mimetype": "text/x-python",
   "name": "python",
   "nbconvert_exporter": "python",
   "pygments_lexer": "ipython3",
   "version": "3.9.12"
  }
 },
 "nbformat": 4,
 "nbformat_minor": 5
}
