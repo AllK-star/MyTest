{
  "cells": [
    {
      "cell_type": "code",
      "execution_count": 26,
      "id": "5d2508f8",
      "metadata": {
        "id": "5d2508f8"
      },
      "outputs": [],
      "source": [
        "import requests\n",
        "from bs4 import BeautifulSoup\n",
        "import pandas as pd\n"
      ]
    },
    {
      "cell_type": "code",
      "execution_count": 2,
      "id": "fb61d6a4",
      "metadata": {
        "scrolled": true,
        "id": "fb61d6a4"
      },
      "outputs": [],
      "source": [
        "def get_html(url):\n",
        "    try:\n",
        "        page = requests.get(url)\n",
        "        return page.text\n",
        "    except req.exceptions.ConnectionError as e:\n",
        "        page = \"No response\"\n",
        "        print('2')\n",
        "        return None"
      ]
    },
    {
      "cell_type": "code",
      "execution_count": 3,
      "id": "359a9848",
      "metadata": {
        "id": "359a9848"
      },
      "outputs": [],
      "source": [
        "#ссылка на предыдущий день\n",
        "def get_PrDayLink():\n",
        "    link = soup.find_all('div', class_='textlink')[1].find('a')\n",
        "    link = link['href']\n",
        "    return link"
      ]
    },
    {
      "cell_type": "code",
      "execution_count": 4,
      "id": "bef6b1ad",
      "metadata": {
        "id": "bef6b1ad"
      },
      "outputs": [],
      "source": [
        "#ссылки на тексты\n",
        "def get_links_for_text(url):\n",
        "    page = get_html(url)\n",
        "    soup = BeautifulSoup(page, 'lxml')\n",
        "    links = soup.find_all('a', class_ =\"poemlink\", href=True)\n",
        "    for a in links:\n",
        "        links[links.index(a)] = a['href']\n",
        "    return links"
      ]
    },
    {
      "cell_type": "code",
      "execution_count": 5,
      "id": "0b5d1971",
      "metadata": {
        "id": "0b5d1971"
      },
      "outputs": [],
      "source": [
        "#ссылки за текущий день\n",
        "def get_links(url):\n",
        "    page = get_html(url)\n",
        "    soup = BeautifulSoup(page, 'lxml')\n",
        "    links = soup.find('div', class_='textlink').find_all('a')\n",
        "    for a in links:\n",
        "        links[links.index(a)] = a['href']\n",
        "    return links"
      ]
    },
    {
      "cell_type": "code",
      "execution_count": 6,
      "id": "b5e84ef7",
      "metadata": {
        "id": "b5e84ef7"
      },
      "outputs": [],
      "source": [
        "def get_title(page):\n",
        "    soup = BeautifulSoup(page, 'lxml')\n",
        "    title = soup.find('h1')\n",
        "    title = title.text\n",
        "    return title"
      ]
    },
    {
      "cell_type": "code",
      "execution_count": 7,
      "id": "bcbb4e51",
      "metadata": {
        "id": "bcbb4e51"
      },
      "outputs": [],
      "source": [
        "def get_BodyText(page):\n",
        "    try:\n",
        "        soup = BeautifulSoup(page, 'lxml')\n",
        "        BodyText = soup.find('div', class_='text')\n",
        "        BodyText = BodyText.text\n",
        "        return BodyText\n",
        "    except:\n",
        "        return None"
      ]
    },
    {
      "cell_type": "code",
      "execution_count": 8,
      "id": "2b725741",
      "metadata": {
        "id": "2b725741"
      },
      "outputs": [],
      "source": [
        "def get_Author(page):\n",
        "    try:\n",
        "        soup = BeautifulSoup(page, 'lxml')\n",
        "        Author = soup.find('div', class_='titleauthor').find('em')\n",
        "        Author = Author.text\n",
        "        return Author\n",
        "    except:\n",
        "        return None"
      ]
    },
    {
      "cell_type": "code",
      "execution_count": 20,
      "id": "3a128051",
      "metadata": {
        "colab": {
          "base_uri": "https://localhost:8080/"
        },
        "id": "3a128051",
        "outputId": "50402944-c505-4bc8-94ed-4ac75b1dd15a"
      },
      "outputs": [
        {
          "output_type": "stream",
          "name": "stdout",
          "text": [
            "1 1 0 0\n",
            "1 1 0 1\n",
            "1 1 0 2\n",
            "1 1 0 3\n",
            "1 1 0 4\n",
            "1 1 0 5\n",
            "1 1 0 6\n",
            "1 1 0 7\n",
            "1 1 0 8\n",
            "1 1 0 9\n",
            "1 1 0 10\n",
            "1 1 0 11\n",
            "1 1 0 12\n",
            "1 1 0 13\n",
            "1 1 0 14\n",
            "1 1 0 15\n",
            "1 1 0 16\n",
            "1 1 0 17\n",
            "1 1 0 18\n",
            "1 1 0 19\n",
            "1 1 0 20\n",
            "1 1 0 21\n",
            "1 1 0 22\n",
            "1 1 0 23\n",
            "1 1 0 24\n",
            "1 1 0 25\n",
            "1 1 0 26\n",
            "1 1 0 27\n",
            "1 1 0 28\n",
            "1 1 1 0\n",
            "1 1 1 1\n",
            "1 1 1 2\n",
            "1 1 1 3\n",
            "1 1 1 4\n",
            "1 1 1 5\n",
            "1 1 1 6\n",
            "1 1 1 7\n",
            "1 1 1 8\n",
            "1 1 1 9\n",
            "1 1 1 10\n",
            "1 1 1 11\n",
            "1 1 1 12\n",
            "1 1 1 13\n",
            "1 1 1 14\n",
            "1 1 1 15\n",
            "1 1 1 16\n",
            "1 1 1 17\n",
            "1 1 1 18\n",
            "1 1 1 19\n",
            "1 1 1 20\n",
            "1 1 1 21\n",
            "1 1 1 22\n",
            "1 1 1 23\n",
            "1 1 1 24\n",
            "1 1 1 25\n"
          ]
        }
      ],
      "source": [
        "titles = []\n",
        "bodies = []\n",
        "authors = []\n",
        "#url = 'https://proza.ru/2012/01/01/1281'\n",
        "#link_year = 'f'https://proza.ru/texts/list.html?topic=all&year=2012&month={month}&day=1'\n",
        "\n",
        "#for month in range(1, 13):\n",
        "#    if (month == 1) or (month == 3) or (month == 5) or (month == 7)or(month == 8) or(month == 10)or(month == 12):\n",
        "#        days = range(1, 32)\n",
        "#    elif (month == 4)or(month == 6)or(month == 9)or(month == 11):\n",
        "#        days = range(1, 31)\n",
        "#    else:\n",
        "#        days = range(1, 29)\n",
        "\n",
        "   # for day in range(1,1):\n",
        "day = 1\n",
        "month = 1\n",
        "link_month = f'https://proza.ru/texts/list.html?topic=all&year=2012&month={str(month).zfill(2)}&day={day}'\n",
        "links_of_day = get_links(link_month)\n",
        "links_of_day = [\"https://proza.ru/\" + x for x in links_of_day]\n",
        "\n",
        "#for a in links_of_day:\n",
        "for a in range(0,2):\n",
        "  links_for_texts = get_links_for_text(links_of_day[a])\n",
        "  links_for_texts = [\"https://proza.ru\" + x for x in links_for_texts]\n",
        "  for b in range(0, len(links_for_texts)):\n",
        "      page = get_html(links_for_texts[b])\n",
        "      titles.append(get_title(page))\n",
        "      bodies.append(get_BodyText(page))\n",
        "      authors.append(get_Author(page))\n",
        "      print(month, day, a, b)\n",
        "\n",
        ""
      ]
    },
    {
      "cell_type": "code",
      "execution_count": 22,
      "id": "fd19f8ed",
      "metadata": {
        "id": "fd19f8ed"
      },
      "outputs": [],
      "source": [
        "final_table = pd.DataFrame(\n",
        "    {'Title': titles,\n",
        "     'Text': bodies,\n",
        "     'Author': authors\n",
        "    })\n",
        "\n"
      ]
    },
    {
      "cell_type": "code",
      "source": [
        "from google.colab import files\n",
        "final_table.to_csv('final_table.csv', sep='\\t', encoding='utf-8')\n",
        "files.download('final_table.csv')"
      ],
      "metadata": {
        "colab": {
          "base_uri": "https://localhost:8080/",
          "height": 17
        },
        "id": "kkB0eAT974t0",
        "outputId": "7c12c1cb-4ffc-4f8d-fd01-44a9eb49f7c0"
      },
      "id": "kkB0eAT974t0",
      "execution_count": 27,
      "outputs": [
        {
          "output_type": "display_data",
          "data": {
            "text/plain": [
              "<IPython.core.display.Javascript object>"
            ],
            "application/javascript": [
              "\n",
              "    async function download(id, filename, size) {\n",
              "      if (!google.colab.kernel.accessAllowed) {\n",
              "        return;\n",
              "      }\n",
              "      const div = document.createElement('div');\n",
              "      const label = document.createElement('label');\n",
              "      label.textContent = `Downloading \"${filename}\": `;\n",
              "      div.appendChild(label);\n",
              "      const progress = document.createElement('progress');\n",
              "      progress.max = size;\n",
              "      div.appendChild(progress);\n",
              "      document.body.appendChild(div);\n",
              "\n",
              "      const buffers = [];\n",
              "      let downloaded = 0;\n",
              "\n",
              "      const channel = await google.colab.kernel.comms.open(id);\n",
              "      // Send a message to notify the kernel that we're ready.\n",
              "      channel.send({})\n",
              "\n",
              "      for await (const message of channel.messages) {\n",
              "        // Send a message to notify the kernel that we're ready.\n",
              "        channel.send({})\n",
              "        if (message.buffers) {\n",
              "          for (const buffer of message.buffers) {\n",
              "            buffers.push(buffer);\n",
              "            downloaded += buffer.byteLength;\n",
              "            progress.value = downloaded;\n",
              "          }\n",
              "        }\n",
              "      }\n",
              "      const blob = new Blob(buffers, {type: 'application/binary'});\n",
              "      const a = document.createElement('a');\n",
              "      a.href = window.URL.createObjectURL(blob);\n",
              "      a.download = filename;\n",
              "      div.appendChild(a);\n",
              "      a.click();\n",
              "      div.remove();\n",
              "    }\n",
              "  "
            ]
          },
          "metadata": {}
        },
        {
          "output_type": "display_data",
          "data": {
            "text/plain": [
              "<IPython.core.display.Javascript object>"
            ],
            "application/javascript": [
              "download(\"download_d78df214-b8cb-4fcf-b5c3-5435c646f8e4\", \"final_table.csv\", 3004865)"
            ]
          },
          "metadata": {}
        }
      ]
    },
    {
      "cell_type": "code",
      "execution_count": 23,
      "id": "a7fa1333",
      "metadata": {
        "colab": {
          "base_uri": "https://localhost:8080/"
        },
        "id": "a7fa1333",
        "outputId": "0c5802bc-d6d7-4b5a-dc14-4e178fd39fc0"
      },
      "outputs": [
        {
          "output_type": "stream",
          "name": "stdout",
          "text": [
            "                                              Title  \\\n",
            "0                Фанфик Так и не начавшаяся история   \n",
            "1   Итоги десятилетия. Телевидение против интернета   \n",
            "2                                    Обманщик гл. 9   \n",
            "3       Как у нас в стране покупаются билеты в цирк   \n",
            "4           12 Экспресс газета 40 106 Часть девятая   \n",
            "5                          Как я был революционером   \n",
            "6      История Богушевской горпоселковой библиотеки   \n",
            "7                                    Не будь дубом!   \n",
            "8                                    Кофе в постель   \n",
            "9                                        Демон Огня   \n",
            "10                                         Маски...   \n",
            "11                       Мини-вини. Природа - осень   \n",
            "12                      Время, когда имя решало всё   \n",
            "13                                    Хорошие шутки   \n",
            "14                                Не дорого возьмут   \n",
            "15    А это - мой Пушкин! Гл. 76. Закатилось солнце   \n",
            "16                          Да тут же рукой подать!   \n",
            "17                                    Женская месть   \n",
            "18                Разочарование. Юмореска 0, 25 стр   \n",
            "19                           Гастрономия и Тяпляпия   \n",
            "20                             Оборванные узы любви   \n",
            "21                Останкинской башне! Сбор Любовный   \n",
            "22                         Небо-бог и господь-земля   \n",
            "23                            Брэйн-ринг с хитрецом   \n",
            "24                          Смерть Муаммара Каддафи   \n",
            "25                  Когда я вижу кого-то другого...   \n",
            "26                                Новогоднее Письмо   \n",
            "27    И пускай в горло тебе летят водосточные трубы   \n",
            "28                                    Семена истины   \n",
            "29                                   с новым голдом   \n",
            "30                                   Из жизни звезд   \n",
            "31                    Зависть не порок, а страдание   \n",
            "32                                 под бой курантов   \n",
            "33                       Автор закрыл свою страницу   \n",
            "34                       Автор закрыл свою страницу   \n",
            "35               Сказка. Глава 1. Царица скорпионов   \n",
            "36                                         Штильума   \n",
            "37                                   Храм. Часть 26   \n",
            "38    Повесть Стать ведьмой - очень просто! глава 7   \n",
            "39                              Запоздалое свидание   \n",
            "40                         Пьеса о вреде заклинаний   \n",
            "41      Экоцентрическое природо- и землепользование   \n",
            "42                                   Часть 1. Огонь   \n",
            "43                                              ***   \n",
            "44    А это - мой Пушкин! Гл. 76. Закатилось солнце   \n",
            "45                          Да тут же рукой подать!   \n",
            "46                                    Женская месть   \n",
            "47                Разочарование. Юмореска 0, 25 стр   \n",
            "48                           Гастрономия и Тяпляпия   \n",
            "49                             Оборванные узы любви   \n",
            "50                Останкинской башне! Сбор Любовный   \n",
            "51                         Небо-бог и господь-земля   \n",
            "52                            Брэйн-ринг с хитрецом   \n",
            "53                          Смерть Муаммара Каддафи   \n",
            "54                           Мои 13 страниц безумия   \n",
            "\n",
            "                                                 Text  \\\n",
            "0   \\nАннотация.\\nЭто очередная моя фантазия на те...   \n",
            "1   \\nДесятилетие началось со скандального захвата...   \n",
            "2   \\n9. В гостях у мага\\n- Вик ты действительно у...   \n",
            "3   \\nКак у нас в стране покупаются билеты в цирк ...   \n",
            "4   \\n12 «Экспресс газета» №40 (106) \\nЧАСТЬ ДЕВЯТ...   \n",
            "5   \\nПришёл я в Революции поучаствовать. Вижу дев...   \n",
            "6   \\n             Библиотека в Богушевске появила...   \n",
            "7   \\n \\n- можно ли убедить зачаток дуба вырасти с...   \n",
            "8   \\nОказывается, аристократическая привычка насл...   \n",
            "9   \\nЯ падший демон, без души.\\nЯ сам ее убил.\\nИ...   \n",
            "10  \\nМаски,\\n     Гримасы,\\n                Адово...   \n",
            "11  \\nСорвал последние листья с деревьев бродяга-в...   \n",
            "12  \\nВремя, когда имя решало всё.\\nТак получилось...   \n",
            "13  \\nГод прошел, закончившись выстрелами шампанск...   \n",
            "14  \\nМногих хлебом не корми - было бы кого сожрат...   \n",
            "15  \\n Фото из Интернета\\nВсе пространство перед д...   \n",
            "16  \\n   Если вашим гидом по прекрасному незнакомо...   \n",
            "17  \\nРассказ.\\n\\n       Виктор с Галей жил на окр...   \n",
            "18  \\nСидя на скамейке в парке, симпатичная девушк...   \n",
            "19  \\n                ГАСТРОНОМИЯ И ЕЁ ГОРОДА     ...   \n",
            "20  \\nНесмотря на то, что был последний день авгус...   \n",
            "21  \\nПОСТОЯННОЕ МЕСТО ПУБЛИКАЦИИ:http://www.proza...   \n",
            "22  \\nНачать жить в 46 лет осознанно, соединяя зна...   \n",
            "23  \\nЛишь временной бывает безнаказанность. \\nНа ...   \n",
            "24  \\nВетра с укоризною дуют морские,\\nИ солнце св...   \n",
            "25  \\n..того, кто мог бы заглушить собой, перебить...   \n",
            "26  \\nКаждый раз Новый год для меня - время, когда...   \n",
            "27  \\nСидишь, ссутулив плечи, и слова летят в тебя...   \n",
            "28  \\n  \\n- не смешивай мешок семян истины с мешко...   \n",
            "29  \\nлюди. это всё\\nнастолько странно, что\\nкажет...   \n",
            "30  \\nИз жизни звезд\\nДина Байтер\\nЭто мой первый ...   \n",
            "31  \\nГлава 1                \\n\\n\\n\\n\\n***\\nЛишь п...   \n",
            "32  \\nи вот, знаете, под бой курантов в новогоднюю...   \n",
            "33                                               None   \n",
            "34                                               None   \n",
            "35  \\n              \\n     - Когда я была маленька...   \n",
            "36  \\n \\n- шторм доводов да не потопит тех, кто де...   \n",
            "37  \\n                *****\\n     Таэра закрыла гл...   \n",
            "38  \\nИзнутри труба была скользкой, под ногами тек...   \n",
            "39  \\n                ЗАПОЗДАЛОЕ  СВИДАНИЕ\\n\\n    ...   \n",
            "40  \\n\"Заклинание\"\\nТаня Даршт\\n\\n \"Не засыпай под...   \n",
            "41  \\nУважаемые граждане !\\n\\nОбъединив все эти :\\...   \n",
            "42  \\nТак непривычно и очужело прикасаться к холод...   \n",
            "43  \\nИногда за ангельски привлекательной внешност...   \n",
            "44  \\n Фото из Интернета\\nВсе пространство перед д...   \n",
            "45  \\n   Если вашим гидом по прекрасному незнакомо...   \n",
            "46  \\nРассказ.\\n\\n       Виктор с Галей жил на окр...   \n",
            "47  \\nСидя на скамейке в парке, симпатичная девушк...   \n",
            "48  \\n                ГАСТРОНОМИЯ И ЕЁ ГОРОДА     ...   \n",
            "49  \\nНесмотря на то, что был последний день авгус...   \n",
            "50  \\nПОСТОЯННОЕ МЕСТО ПУБЛИКАЦИИ:http://www.proza...   \n",
            "51  \\nНачать жить в 46 лет осознанно, соединяя зна...   \n",
            "52  \\nЛишь временной бывает безнаказанность. \\nНа ...   \n",
            "53  \\nВетра с укоризною дуют морские,\\nИ солнце св...   \n",
            "54  \\n      ПРОЛОГ\\nЭта встреча определит мою судь...   \n",
            "\n",
            "                             Author  \n",
            "0                    Мария Майданюк  \n",
            "1       Василий Пономарев-Полянский  \n",
            "2                         Ешкин Кот  \n",
            "3                       Таня Белова  \n",
            "4                    Лидия Копасова  \n",
            "5                       Тов Краснов  \n",
            "6   Александра Васильевна Кузнецова  \n",
            "7                    Тубольцев Юрий  \n",
            "8                     Антон Рысаков  \n",
            "9                     Саргас Орфиус  \n",
            "10                  Верико Кочивари  \n",
            "11         Павел Облаков Григоренко  \n",
            "12              Александр Вардецкий  \n",
            "13                   Владимир Митюк  \n",
            "14                  Жанна Николенко  \n",
            "15                   Асна Сатанаева  \n",
            "16               Людмила Колденкова  \n",
            "17                       Глеб Туров  \n",
            "18                       Сергей Сам  \n",
            "19                   Сергей Нюничев  \n",
            "20                  Герейхан Аджиев  \n",
            "21                  Леонид Крупатин  \n",
            "22                       Даша Новая  \n",
            "23                 Анастасия Калько  \n",
            "24                  Эмилия Лионская  \n",
            "25                           Адели1  \n",
            "26                  Оксана Никитина  \n",
            "27                    Мэджик Машрум  \n",
            "28                   Тубольцев Юрий  \n",
            "29                  Артём Вострецов  \n",
            "30                      Дина Байтер  \n",
            "31              Катерина Николаевна  \n",
            "32                    Диана Февраль  \n",
            "33                             None  \n",
            "34                             None  \n",
            "35               Светлана Гонсалвес  \n",
            "36                   Тубольцев Юрий  \n",
            "37     Бартенева Наталья Евгеньевна  \n",
            "38               Кассандра Тарасова  \n",
            "39                 Валентина Яровая  \n",
            "40                          Троянда  \n",
            "41                    Словно Вёлунд  \n",
            "42                        Кира Швец  \n",
            "43            Валерий Немировский 2  \n",
            "44                   Асна Сатанаева  \n",
            "45               Людмила Колденкова  \n",
            "46                       Глеб Туров  \n",
            "47                       Сергей Сам  \n",
            "48                   Сергей Нюничев  \n",
            "49                  Герейхан Аджиев  \n",
            "50                  Леонид Крупатин  \n",
            "51                       Даша Новая  \n",
            "52                 Анастасия Калько  \n",
            "53                  Эмилия Лионская  \n",
            "54                   Мария Ворожбит  \n"
          ]
        }
      ],
      "source": [
        "print(final_table)"
      ]
    }
  ],
  "metadata": {
    "kernelspec": {
      "display_name": "Python 3 (ipykernel)",
      "language": "python",
      "name": "python3"
    },
    "language_info": {
      "codemirror_mode": {
        "name": "ipython",
        "version": 3
      },
      "file_extension": ".py",
      "mimetype": "text/x-python",
      "name": "python",
      "nbconvert_exporter": "python",
      "pygments_lexer": "ipython3",
      "version": "3.9.12"
    },
    "colab": {
      "provenance": []
    }
  },
  "nbformat": 4,
  "nbformat_minor": 5
}